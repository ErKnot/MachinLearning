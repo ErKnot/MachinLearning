{
 "cells": [
  {
   "cell_type": "code",
   "execution_count": 5,
   "id": "733e029a-d6eb-42e2-b265-aecd56184da0",
   "metadata": {},
   "outputs": [],
   "source": [
    "import numpy as np\n",
    "import matplotlib.pyplot as plt\n",
    "import seaborn as sns\n",
    "from lms import Least_square"
   ]
  },
  {
   "cell_type": "code",
   "execution_count": null,
   "id": "e4ceb963-c956-4994-8acf-f2ed3d98e0a9",
   "metadata": {},
   "outputs": [],
   "source": []
  }
 ],
 "metadata": {
  "kernelspec": {
   "display_name": "dev-I.A.",
   "language": "python",
   "name": "dev-i.a."
  },
  "language_info": {
   "codemirror_mode": {
    "name": "ipython",
    "version": 3
   },
   "file_extension": ".py",
   "mimetype": "text/x-python",
   "name": "python",
   "nbconvert_exporter": "python",
   "pygments_lexer": "ipython3",
   "version": "3.12.6"
  }
 },
 "nbformat": 4,
 "nbformat_minor": 5
}
