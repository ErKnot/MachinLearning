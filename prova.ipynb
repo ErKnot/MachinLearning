{
 "cells": [
  {
   "cell_type": "code",
   "execution_count": 32,
   "id": "733e029a-d6eb-42e2-b265-aecd56184da0",
   "metadata": {},
   "outputs": [],
   "source": [
    "import numpy as np\n",
    "import matplotlib.pyplot as plt\n",
    "import seaborn as sns\n",
    "import pandas as pd\n",
    "from lms import Least_square"
   ]
  },
  {
   "cell_type": "code",
   "execution_count": 33,
   "id": "e4ceb963-c956-4994-8acf-f2ed3d98e0a9",
   "metadata": {},
   "outputs": [
    {
     "data": {
      "text/html": [
       "<div>\n",
       "<style scoped>\n",
       "    .dataframe tbody tr th:only-of-type {\n",
       "        vertical-align: middle;\n",
       "    }\n",
       "\n",
       "    .dataframe tbody tr th {\n",
       "        vertical-align: top;\n",
       "    }\n",
       "\n",
       "    .dataframe thead th {\n",
       "        text-align: right;\n",
       "    }\n",
       "</style>\n",
       "<table border=\"1\" class=\"dataframe\">\n",
       "  <thead>\n",
       "    <tr style=\"text-align: right;\">\n",
       "      <th></th>\n",
       "      <th>km</th>\n",
       "      <th>price</th>\n",
       "    </tr>\n",
       "  </thead>\n",
       "  <tbody>\n",
       "    <tr>\n",
       "      <th>0</th>\n",
       "      <td>240000</td>\n",
       "      <td>3650</td>\n",
       "    </tr>\n",
       "    <tr>\n",
       "      <th>1</th>\n",
       "      <td>139800</td>\n",
       "      <td>3800</td>\n",
       "    </tr>\n",
       "    <tr>\n",
       "      <th>2</th>\n",
       "      <td>150500</td>\n",
       "      <td>4400</td>\n",
       "    </tr>\n",
       "    <tr>\n",
       "      <th>3</th>\n",
       "      <td>185530</td>\n",
       "      <td>4450</td>\n",
       "    </tr>\n",
       "    <tr>\n",
       "      <th>4</th>\n",
       "      <td>176000</td>\n",
       "      <td>5250</td>\n",
       "    </tr>\n",
       "  </tbody>\n",
       "</table>\n",
       "</div>"
      ],
      "text/plain": [
       "       km  price\n",
       "0  240000   3650\n",
       "1  139800   3800\n",
       "2  150500   4400\n",
       "3  185530   4450\n",
       "4  176000   5250"
      ]
     },
     "execution_count": 33,
     "metadata": {},
     "output_type": "execute_result"
    }
   ],
   "source": [
    "path = \"data/data.csv\"\n",
    "data = pd.read_csv(path)\n",
    "data.head()"
   ]
  },
  {
   "cell_type": "code",
   "execution_count": 43,
   "id": "ecfd2144",
   "metadata": {},
   "outputs": [
    {
     "name": "stdout",
     "output_type": "stream",
     "text": [
      "[[240000]\n",
      " [139800]\n",
      " [150500]\n",
      " [185530]\n",
      " [176000]\n",
      " [114800]\n",
      " [166800]\n",
      " [ 89000]\n",
      " [144500]\n",
      " [ 84000]\n",
      " [ 82029]\n",
      " [ 63060]\n",
      " [ 74000]\n",
      " [ 97500]\n",
      " [ 67000]\n",
      " [ 76025]\n",
      " [ 48235]\n",
      " [ 93000]\n",
      " [ 60949]\n",
      " [ 65674]\n",
      " [ 54000]\n",
      " [ 68500]\n",
      " [ 22899]\n",
      " [ 61789]]\n",
      "(24, 1)\n"
     ]
    }
   ],
   "source": [
    "features = data[[\"km\"]].to_numpy()\n",
    "target = data[[\"price\"]].to_numpy()\n",
    "print(features)\n",
    "print(target.shape)"
   ]
  },
  {
   "cell_type": "code",
   "execution_count": 35,
   "id": "beb506eb",
   "metadata": {},
   "outputs": [],
   "source": [
    "ls = Least_square()\n",
    "ls.fit(features, target)"
   ]
  },
  {
   "cell_type": "code",
   "execution_count": 42,
   "id": "ea041ce6",
   "metadata": {},
   "outputs": [
    {
     "ename": "ValueError",
     "evalue": "shapes (24,2) and (25,1) not aligned: 2 (dim 1) != 25 (dim 0)",
     "output_type": "error",
     "traceback": [
      "\u001b[0;31m---------------------------------------------------------------------------\u001b[0m",
      "\u001b[0;31mValueError\u001b[0m                                Traceback (most recent call last)",
      "Cell \u001b[0;32mIn[42], line 1\u001b[0m\n\u001b[0;32m----> 1\u001b[0m \u001b[43mls\u001b[49m\u001b[38;5;241;43m.\u001b[39;49m\u001b[43mpredict\u001b[49m\u001b[43m(\u001b[49m\u001b[43m)\u001b[49m\n",
      "File \u001b[0;32m~/Documents/Dev-A.I./FromScratch/Machine_learning/lms.py:35\u001b[0m, in \u001b[0;36mLeast_square.predict\u001b[0;34m(self, gradient_descent, learning_rate, num_iterations, criterion)\u001b[0m\n\u001b[1;32m     29\u001b[0m \u001b[38;5;28;01mdef\u001b[39;00m \u001b[38;5;21mpredict\u001b[39m(\u001b[38;5;28mself\u001b[39m, gradient_descent \u001b[38;5;241m=\u001b[39m \u001b[38;5;28;01mTrue\u001b[39;00m, learning_rate : \u001b[38;5;28mfloat\u001b[39m \u001b[38;5;241m=\u001b[39m \u001b[38;5;241m0.01\u001b[39m, num_iterations: \u001b[38;5;28mint\u001b[39m \u001b[38;5;241m=\u001b[39m \u001b[38;5;241m1000\u001b[39m, criterion: \u001b[38;5;28mstr\u001b[39m \u001b[38;5;241m=\u001b[39m \u001b[38;5;124m'\u001b[39m\u001b[38;5;124mrandom\u001b[39m\u001b[38;5;124m'\u001b[39m):\n\u001b[1;32m     30\u001b[0m     \u001b[38;5;66;03m# Give the theta that minimize the LMS function\u001b[39;00m\n\u001b[1;32m     32\u001b[0m     \u001b[38;5;28mself\u001b[39m\u001b[38;5;241m.\u001b[39m_predicted_coefficients \u001b[38;5;241m=\u001b[39m STARTING_POINT[criterion]((\u001b[38;5;28mself\u001b[39m\u001b[38;5;241m.\u001b[39mnum_rows \u001b[38;5;241m+\u001b[39m\u001b[38;5;241m1\u001b[39m, \u001b[38;5;241m1\u001b[39m))\n\u001b[1;32m     33\u001b[0m     \u001b[38;5;28mself\u001b[39m\u001b[38;5;241m.\u001b[39m_history \u001b[38;5;241m=\u001b[39m {\n\u001b[1;32m     34\u001b[0m         \u001b[38;5;124m\"\u001b[39m\u001b[38;5;124mPredicted_coefficient\u001b[39m\u001b[38;5;124m\"\u001b[39m: [\u001b[38;5;28mself\u001b[39m\u001b[38;5;241m.\u001b[39m_predicted_coefficients],\n\u001b[0;32m---> 35\u001b[0m         \u001b[38;5;124m\"\u001b[39m\u001b[38;5;124mcost_history\u001b[39m\u001b[38;5;124m\"\u001b[39m: [\u001b[38;5;28;43mself\u001b[39;49m\u001b[38;5;241;43m.\u001b[39;49m\u001b[43mcompute\u001b[49m\u001b[43m(\u001b[49m\u001b[38;5;28;43mself\u001b[39;49m\u001b[38;5;241;43m.\u001b[39;49m\u001b[43m_predicted_coefficients\u001b[49m\u001b[43m)\u001b[49m]\n\u001b[1;32m     36\u001b[0m     }\n\u001b[1;32m     37\u001b[0m     \u001b[38;5;28;01mfor\u001b[39;00m iteration \u001b[38;5;129;01min\u001b[39;00m \u001b[38;5;28mrange\u001b[39m(num_iterations):\n\u001b[1;32m     39\u001b[0m         \u001b[38;5;28mself\u001b[39m\u001b[38;5;241m.\u001b[39m_predicted_coefficients \u001b[38;5;241m=\u001b[39m \u001b[38;5;28mself\u001b[39m\u001b[38;5;241m.\u001b[39m_predicted_coefficients \u001b[38;5;241m-\u001b[39m learning_rate \u001b[38;5;241m*\u001b[39m \u001b[38;5;28mself\u001b[39m\u001b[38;5;241m.\u001b[39mgradient(\u001b[38;5;28mself\u001b[39m\u001b[38;5;241m.\u001b[39m_predicted_coefficients)\n",
      "File \u001b[0;32m~/Documents/Dev-A.I./FromScratch/Machine_learning/lms.py:51\u001b[0m, in \u001b[0;36mLeast_square.compute\u001b[0;34m(self, coefficients)\u001b[0m\n\u001b[1;32m     49\u001b[0m \u001b[38;5;28;01mdef\u001b[39;00m \u001b[38;5;21mcompute\u001b[39m(\u001b[38;5;28mself\u001b[39m, coefficients: np\u001b[38;5;241m.\u001b[39mndarray):\n\u001b[1;32m     50\u001b[0m     \u001b[38;5;66;03m# Give a point theta and return the resutl of the LMS function\u001b[39;00m\n\u001b[0;32m---> 51\u001b[0m     _error \u001b[38;5;241m=\u001b[39m \u001b[43mnp\u001b[49m\u001b[38;5;241;43m.\u001b[39;49m\u001b[43mdot\u001b[49m\u001b[43m(\u001b[49m\u001b[38;5;28;43mself\u001b[39;49m\u001b[38;5;241;43m.\u001b[39;49m\u001b[43m_X\u001b[49m\u001b[43m,\u001b[49m\u001b[43m \u001b[49m\u001b[43mcoefficients\u001b[49m\u001b[43m)\u001b[49m \u001b[38;5;241m-\u001b[39m \u001b[38;5;28mself\u001b[39m\u001b[38;5;241m.\u001b[39mlearning_targets\n\u001b[1;32m     52\u001b[0m     \u001b[38;5;28;01mreturn\u001b[39;00m np\u001b[38;5;241m.\u001b[39mdivide(np\u001b[38;5;241m.\u001b[39mdot(_error\u001b[38;5;241m.\u001b[39mT, _error),\u001b[38;5;241m2\u001b[39m)\u001b[38;5;241m.\u001b[39mflat[\u001b[38;5;241m0\u001b[39m]\n",
      "\u001b[0;31mValueError\u001b[0m: shapes (24,2) and (25,1) not aligned: 2 (dim 1) != 25 (dim 0)"
     ]
    }
   ],
   "source": [
    "ls.predict()"
   ]
  },
  {
   "cell_type": "code",
   "execution_count": 41,
   "id": "a4ceab42",
   "metadata": {},
   "outputs": [
    {
     "data": {
      "text/plain": [
       "array([[2.27362600e+06],\n",
       "       [2.94970876e+11]])"
      ]
     },
     "execution_count": 41,
     "metadata": {},
     "output_type": "execute_result"
    }
   ],
   "source": [
    "ls.gradient(np.array([0,1]).reshape(2,1))"
   ]
  },
  {
   "cell_type": "code",
   "execution_count": null,
   "id": "0d75a0bb",
   "metadata": {},
   "outputs": [],
   "source": []
  }
 ],
 "metadata": {
  "kernelspec": {
   "display_name": ".venv",
   "language": "python",
   "name": "python3"
  },
  "language_info": {
   "codemirror_mode": {
    "name": "ipython",
    "version": 3
   },
   "file_extension": ".py",
   "mimetype": "text/x-python",
   "name": "python",
   "nbconvert_exporter": "python",
   "pygments_lexer": "ipython3",
   "version": "3.12.6"
  }
 },
 "nbformat": 4,
 "nbformat_minor": 5
}
